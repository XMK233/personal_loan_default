{
 "cells": [
  {
   "cell_type": "code",
   "execution_count": 1,
   "metadata": {
    "ExecuteTime": {
     "end_time": "2021-10-11T15:31:54.771411Z",
     "start_time": "2021-10-11T15:31:50.790722Z"
    }
   },
   "outputs": [
    {
     "data": {
      "text/plain": [
       "(10000, 39)"
      ]
     },
     "execution_count": 1,
     "metadata": {},
     "output_type": "execute_result"
    }
   ],
   "source": [
    "import warnings\n",
    "import pandas as pd\n",
    "warnings.filterwarnings('ignore')\n",
    "pd.set_option('max_columns', 50)\n",
    "\n",
    "train_bank = pd.read_csv('./originalData/train_public.csv')\n",
    "train_internet = pd.read_csv('./originalData/train_internet.csv')\n",
    "train_bank.shape"
   ]
  },
  {
   "cell_type": "code",
   "execution_count": 2,
   "metadata": {
    "ExecuteTime": {
     "end_time": "2021-10-11T15:31:54.778913Z",
     "start_time": "2021-10-11T15:31:54.774320Z"
    }
   },
   "outputs": [
    {
     "data": {
      "text/plain": [
       "(750000, 42)"
      ]
     },
     "execution_count": 2,
     "metadata": {},
     "output_type": "execute_result"
    }
   ],
   "source": [
    "train_internet.shape"
   ]
  },
  {
   "cell_type": "code",
   "execution_count": 3,
   "metadata": {
    "ExecuteTime": {
     "end_time": "2021-10-11T15:31:54.786107Z",
     "start_time": "2021-10-11T15:31:54.781514Z"
    }
   },
   "outputs": [
    {
     "data": {
      "text/plain": [
       "Index(['loan_id', 'user_id', 'total_loan', 'year_of_loan', 'interest',\n",
       "       'monthly_payment', 'class', 'sub_class', 'work_type', 'employer_type',\n",
       "       'industry', 'work_year', 'house_exist', 'house_loan_status',\n",
       "       'censor_status', 'marriage', 'offsprings', 'issue_date', 'use',\n",
       "       'post_code', 'region', 'debt_loan_ratio', 'del_in_18month',\n",
       "       'scoring_low', 'scoring_high', 'pub_dero_bankrup', 'early_return',\n",
       "       'early_return_amount', 'early_return_amount_3mon', 'recircle_b',\n",
       "       'recircle_u', 'initial_list_status', 'earlies_credit_mon', 'title',\n",
       "       'policy_code', 'f0', 'f1', 'f2', 'f3', 'f4', 'f5', 'is_default'],\n",
       "      dtype='object')"
      ]
     },
     "execution_count": 3,
     "metadata": {},
     "output_type": "execute_result"
    }
   ],
   "source": [
    "train_internet.columns"
   ]
  },
  {
   "cell_type": "code",
   "execution_count": 4,
   "metadata": {
    "ExecuteTime": {
     "end_time": "2021-10-11T15:31:54.833733Z",
     "start_time": "2021-10-11T15:31:54.788464Z"
    }
   },
   "outputs": [],
   "source": [
    "test = pd.read_csv('./originalData/test_public.csv')"
   ]
  },
  {
   "cell_type": "code",
   "execution_count": 5,
   "metadata": {
    "ExecuteTime": {
     "end_time": "2021-10-11T15:31:54.943421Z",
     "start_time": "2021-10-11T15:31:54.835723Z"
    }
   },
   "outputs": [
    {
     "data": {
      "text/html": [
       "<div>\n",
       "<style scoped>\n",
       "    .dataframe tbody tr th:only-of-type {\n",
       "        vertical-align: middle;\n",
       "    }\n",
       "\n",
       "    .dataframe tbody tr th {\n",
       "        vertical-align: top;\n",
       "    }\n",
       "\n",
       "    .dataframe thead th {\n",
       "        text-align: right;\n",
       "    }\n",
       "</style>\n",
       "<table border=\"1\" class=\"dataframe\">\n",
       "  <thead>\n",
       "    <tr style=\"text-align: right;\">\n",
       "      <th></th>\n",
       "      <th>loan_id</th>\n",
       "      <th>user_id</th>\n",
       "      <th>total_loan</th>\n",
       "      <th>year_of_loan</th>\n",
       "      <th>interest</th>\n",
       "      <th>monthly_payment</th>\n",
       "      <th>house_exist</th>\n",
       "      <th>censor_status</th>\n",
       "      <th>use</th>\n",
       "      <th>post_code</th>\n",
       "      <th>region</th>\n",
       "      <th>debt_loan_ratio</th>\n",
       "      <th>del_in_18month</th>\n",
       "      <th>scoring_low</th>\n",
       "      <th>scoring_high</th>\n",
       "      <th>known_outstanding_loan</th>\n",
       "      <th>known_dero</th>\n",
       "      <th>pub_dero_bankrup</th>\n",
       "      <th>recircle_b</th>\n",
       "      <th>recircle_u</th>\n",
       "      <th>initial_list_status</th>\n",
       "      <th>app_type</th>\n",
       "      <th>title</th>\n",
       "      <th>policy_code</th>\n",
       "      <th>f0</th>\n",
       "      <th>f1</th>\n",
       "      <th>f2</th>\n",
       "      <th>f3</th>\n",
       "      <th>f4</th>\n",
       "      <th>early_return</th>\n",
       "      <th>early_return_amount</th>\n",
       "      <th>early_return_amount_3mon</th>\n",
       "    </tr>\n",
       "  </thead>\n",
       "  <tbody>\n",
       "    <tr>\n",
       "      <th>count</th>\n",
       "      <td>5.000000e+03</td>\n",
       "      <td>5000.000000</td>\n",
       "      <td>5000.000000</td>\n",
       "      <td>5000.000000</td>\n",
       "      <td>5000.000000</td>\n",
       "      <td>5000.000000</td>\n",
       "      <td>5000.000000</td>\n",
       "      <td>5000.000000</td>\n",
       "      <td>5000.000000</td>\n",
       "      <td>5000.000000</td>\n",
       "      <td>5000.000000</td>\n",
       "      <td>5000.000000</td>\n",
       "      <td>5000.000000</td>\n",
       "      <td>5000.000000</td>\n",
       "      <td>5000.000000</td>\n",
       "      <td>5000.00000</td>\n",
       "      <td>5000.000000</td>\n",
       "      <td>4996.000000</td>\n",
       "      <td>5000.000000</td>\n",
       "      <td>5000.000000</td>\n",
       "      <td>5000.0000</td>\n",
       "      <td>5000.00000</td>\n",
       "      <td>5000.000000</td>\n",
       "      <td>5000.0</td>\n",
       "      <td>4741.000000</td>\n",
       "      <td>4546.000000</td>\n",
       "      <td>4741.000000</td>\n",
       "      <td>4741.000000</td>\n",
       "      <td>4741.000000</td>\n",
       "      <td>5000.000000</td>\n",
       "      <td>5000.000000</td>\n",
       "      <td>5000.000000</td>\n",
       "    </tr>\n",
       "    <tr>\n",
       "      <th>mean</th>\n",
       "      <td>1.024992e+06</td>\n",
       "      <td>224991.897800</td>\n",
       "      <td>14257.687727</td>\n",
       "      <td>3.492400</td>\n",
       "      <td>13.207284</td>\n",
       "      <td>430.961668</td>\n",
       "      <td>0.616400</td>\n",
       "      <td>0.998000</td>\n",
       "      <td>1.803200</td>\n",
       "      <td>262.266000</td>\n",
       "      <td>16.310000</td>\n",
       "      <td>17.479392</td>\n",
       "      <td>0.302800</td>\n",
       "      <td>663.751545</td>\n",
       "      <td>774.180545</td>\n",
       "      <td>11.57440</td>\n",
       "      <td>0.213200</td>\n",
       "      <td>0.142914</td>\n",
       "      <td>16834.606677</td>\n",
       "      <td>54.142169</td>\n",
       "      <td>0.4074</td>\n",
       "      <td>0.01660</td>\n",
       "      <td>1822.506600</td>\n",
       "      <td>1.0</td>\n",
       "      <td>5.650918</td>\n",
       "      <td>0.000880</td>\n",
       "      <td>8.589538</td>\n",
       "      <td>14.703649</td>\n",
       "      <td>8.132040</td>\n",
       "      <td>1.570000</td>\n",
       "      <td>2195.747800</td>\n",
       "      <td>338.945112</td>\n",
       "    </tr>\n",
       "    <tr>\n",
       "      <th>std</th>\n",
       "      <td>1.443135e+04</td>\n",
       "      <td>14431.348968</td>\n",
       "      <td>8755.784815</td>\n",
       "      <td>0.861679</td>\n",
       "      <td>4.795365</td>\n",
       "      <td>251.272924</td>\n",
       "      <td>0.671819</td>\n",
       "      <td>0.781613</td>\n",
       "      <td>2.413801</td>\n",
       "      <td>201.484039</td>\n",
       "      <td>11.185013</td>\n",
       "      <td>10.097454</td>\n",
       "      <td>0.852559</td>\n",
       "      <td>76.529284</td>\n",
       "      <td>100.014385</td>\n",
       "      <td>5.49488</td>\n",
       "      <td>0.538706</td>\n",
       "      <td>0.392614</td>\n",
       "      <td>21757.810210</td>\n",
       "      <td>26.039213</td>\n",
       "      <td>0.4914</td>\n",
       "      <td>0.12778</td>\n",
       "      <td>7971.472766</td>\n",
       "      <td>0.0</td>\n",
       "      <td>3.338728</td>\n",
       "      <td>0.029653</td>\n",
       "      <td>7.425200</td>\n",
       "      <td>8.123397</td>\n",
       "      <td>4.795245</td>\n",
       "      <td>1.456957</td>\n",
       "      <td>2995.760578</td>\n",
       "      <td>623.447110</td>\n",
       "    </tr>\n",
       "    <tr>\n",
       "      <th>min</th>\n",
       "      <td>1.000006e+06</td>\n",
       "      <td>200006.000000</td>\n",
       "      <td>818.181818</td>\n",
       "      <td>3.000000</td>\n",
       "      <td>4.788000</td>\n",
       "      <td>30.530000</td>\n",
       "      <td>0.000000</td>\n",
       "      <td>0.000000</td>\n",
       "      <td>0.000000</td>\n",
       "      <td>0.000000</td>\n",
       "      <td>0.000000</td>\n",
       "      <td>0.000000</td>\n",
       "      <td>0.000000</td>\n",
       "      <td>540.000000</td>\n",
       "      <td>585.000000</td>\n",
       "      <td>1.00000</td>\n",
       "      <td>0.000000</td>\n",
       "      <td>0.000000</td>\n",
       "      <td>0.000000</td>\n",
       "      <td>0.000000</td>\n",
       "      <td>0.0000</td>\n",
       "      <td>0.00000</td>\n",
       "      <td>0.000000</td>\n",
       "      <td>1.0</td>\n",
       "      <td>0.000000</td>\n",
       "      <td>0.000000</td>\n",
       "      <td>0.000000</td>\n",
       "      <td>2.000000</td>\n",
       "      <td>0.000000</td>\n",
       "      <td>0.000000</td>\n",
       "      <td>0.000000</td>\n",
       "      <td>0.000000</td>\n",
       "    </tr>\n",
       "    <tr>\n",
       "      <th>25%</th>\n",
       "      <td>1.012724e+06</td>\n",
       "      <td>212723.500000</td>\n",
       "      <td>7636.363636</td>\n",
       "      <td>3.000000</td>\n",
       "      <td>9.675000</td>\n",
       "      <td>250.290000</td>\n",
       "      <td>0.000000</td>\n",
       "      <td>0.000000</td>\n",
       "      <td>0.000000</td>\n",
       "      <td>103.000000</td>\n",
       "      <td>8.000000</td>\n",
       "      <td>10.962727</td>\n",
       "      <td>0.000000</td>\n",
       "      <td>604.545455</td>\n",
       "      <td>699.242424</td>\n",
       "      <td>8.00000</td>\n",
       "      <td>0.000000</td>\n",
       "      <td>0.000000</td>\n",
       "      <td>6019.673077</td>\n",
       "      <td>34.517308</td>\n",
       "      <td>0.0000</td>\n",
       "      <td>0.00000</td>\n",
       "      <td>0.000000</td>\n",
       "      <td>1.0</td>\n",
       "      <td>3.000000</td>\n",
       "      <td>0.000000</td>\n",
       "      <td>3.000000</td>\n",
       "      <td>9.000000</td>\n",
       "      <td>5.000000</td>\n",
       "      <td>0.000000</td>\n",
       "      <td>0.000000</td>\n",
       "      <td>0.000000</td>\n",
       "    </tr>\n",
       "    <tr>\n",
       "      <th>50%</th>\n",
       "      <td>1.024658e+06</td>\n",
       "      <td>224658.500000</td>\n",
       "      <td>12272.727270</td>\n",
       "      <td>3.000000</td>\n",
       "      <td>12.690000</td>\n",
       "      <td>375.430000</td>\n",
       "      <td>1.000000</td>\n",
       "      <td>1.000000</td>\n",
       "      <td>0.000000</td>\n",
       "      <td>214.000000</td>\n",
       "      <td>14.000000</td>\n",
       "      <td>16.670909</td>\n",
       "      <td>0.000000</td>\n",
       "      <td>665.000000</td>\n",
       "      <td>772.727273</td>\n",
       "      <td>11.00000</td>\n",
       "      <td>0.000000</td>\n",
       "      <td>0.000000</td>\n",
       "      <td>11526.807690</td>\n",
       "      <td>54.526923</td>\n",
       "      <td>0.0000</td>\n",
       "      <td>0.00000</td>\n",
       "      <td>2.000000</td>\n",
       "      <td>1.0</td>\n",
       "      <td>5.000000</td>\n",
       "      <td>0.000000</td>\n",
       "      <td>7.000000</td>\n",
       "      <td>13.000000</td>\n",
       "      <td>7.000000</td>\n",
       "      <td>1.000000</td>\n",
       "      <td>890.000000</td>\n",
       "      <td>0.000000</td>\n",
       "    </tr>\n",
       "    <tr>\n",
       "      <th>75%</th>\n",
       "      <td>1.037519e+06</td>\n",
       "      <td>237518.750000</td>\n",
       "      <td>19200.000000</td>\n",
       "      <td>3.000000</td>\n",
       "      <td>15.990000</td>\n",
       "      <td>564.562500</td>\n",
       "      <td>1.000000</td>\n",
       "      <td>2.000000</td>\n",
       "      <td>4.000000</td>\n",
       "      <td>401.000000</td>\n",
       "      <td>22.000000</td>\n",
       "      <td>23.050000</td>\n",
       "      <td>0.000000</td>\n",
       "      <td>725.454545</td>\n",
       "      <td>843.750000</td>\n",
       "      <td>14.00000</td>\n",
       "      <td>0.000000</td>\n",
       "      <td>0.000000</td>\n",
       "      <td>20816.519232</td>\n",
       "      <td>73.846154</td>\n",
       "      <td>1.0000</td>\n",
       "      <td>0.00000</td>\n",
       "      <td>5.000000</td>\n",
       "      <td>1.0</td>\n",
       "      <td>7.000000</td>\n",
       "      <td>0.000000</td>\n",
       "      <td>11.000000</td>\n",
       "      <td>19.000000</td>\n",
       "      <td>10.000000</td>\n",
       "      <td>3.000000</td>\n",
       "      <td>3426.000000</td>\n",
       "      <td>426.461539</td>\n",
       "    </tr>\n",
       "    <tr>\n",
       "      <th>max</th>\n",
       "      <td>1.049998e+06</td>\n",
       "      <td>249998.000000</td>\n",
       "      <td>47272.727270</td>\n",
       "      <td>5.000000</td>\n",
       "      <td>34.089000</td>\n",
       "      <td>1486.340000</td>\n",
       "      <td>5.000000</td>\n",
       "      <td>2.000000</td>\n",
       "      <td>13.000000</td>\n",
       "      <td>936.000000</td>\n",
       "      <td>49.000000</td>\n",
       "      <td>380.720000</td>\n",
       "      <td>16.000000</td>\n",
       "      <td>900.000000</td>\n",
       "      <td>1125.000000</td>\n",
       "      <td>42.00000</td>\n",
       "      <td>8.000000</td>\n",
       "      <td>4.000000</td>\n",
       "      <td>473476.153800</td>\n",
       "      <td>152.423077</td>\n",
       "      <td>1.0000</td>\n",
       "      <td>1.00000</td>\n",
       "      <td>61330.000000</td>\n",
       "      <td>1.0</td>\n",
       "      <td>28.000000</td>\n",
       "      <td>1.000000</td>\n",
       "      <td>60.000000</td>\n",
       "      <td>62.000000</td>\n",
       "      <td>38.000000</td>\n",
       "      <td>5.000000</td>\n",
       "      <td>19710.000000</td>\n",
       "      <td>5968.846154</td>\n",
       "    </tr>\n",
       "  </tbody>\n",
       "</table>\n",
       "</div>"
      ],
      "text/plain": [
       "            loan_id        user_id    total_loan  year_of_loan     interest  \\\n",
       "count  5.000000e+03    5000.000000   5000.000000   5000.000000  5000.000000   \n",
       "mean   1.024992e+06  224991.897800  14257.687727      3.492400    13.207284   \n",
       "std    1.443135e+04   14431.348968   8755.784815      0.861679     4.795365   \n",
       "min    1.000006e+06  200006.000000    818.181818      3.000000     4.788000   \n",
       "25%    1.012724e+06  212723.500000   7636.363636      3.000000     9.675000   \n",
       "50%    1.024658e+06  224658.500000  12272.727270      3.000000    12.690000   \n",
       "75%    1.037519e+06  237518.750000  19200.000000      3.000000    15.990000   \n",
       "max    1.049998e+06  249998.000000  47272.727270      5.000000    34.089000   \n",
       "\n",
       "       monthly_payment  house_exist  censor_status          use    post_code  \\\n",
       "count      5000.000000  5000.000000    5000.000000  5000.000000  5000.000000   \n",
       "mean        430.961668     0.616400       0.998000     1.803200   262.266000   \n",
       "std         251.272924     0.671819       0.781613     2.413801   201.484039   \n",
       "min          30.530000     0.000000       0.000000     0.000000     0.000000   \n",
       "25%         250.290000     0.000000       0.000000     0.000000   103.000000   \n",
       "50%         375.430000     1.000000       1.000000     0.000000   214.000000   \n",
       "75%         564.562500     1.000000       2.000000     4.000000   401.000000   \n",
       "max        1486.340000     5.000000       2.000000    13.000000   936.000000   \n",
       "\n",
       "            region  debt_loan_ratio  del_in_18month  scoring_low  \\\n",
       "count  5000.000000      5000.000000     5000.000000  5000.000000   \n",
       "mean     16.310000        17.479392        0.302800   663.751545   \n",
       "std      11.185013        10.097454        0.852559    76.529284   \n",
       "min       0.000000         0.000000        0.000000   540.000000   \n",
       "25%       8.000000        10.962727        0.000000   604.545455   \n",
       "50%      14.000000        16.670909        0.000000   665.000000   \n",
       "75%      22.000000        23.050000        0.000000   725.454545   \n",
       "max      49.000000       380.720000       16.000000   900.000000   \n",
       "\n",
       "       scoring_high  known_outstanding_loan   known_dero  pub_dero_bankrup  \\\n",
       "count   5000.000000              5000.00000  5000.000000       4996.000000   \n",
       "mean     774.180545                11.57440     0.213200          0.142914   \n",
       "std      100.014385                 5.49488     0.538706          0.392614   \n",
       "min      585.000000                 1.00000     0.000000          0.000000   \n",
       "25%      699.242424                 8.00000     0.000000          0.000000   \n",
       "50%      772.727273                11.00000     0.000000          0.000000   \n",
       "75%      843.750000                14.00000     0.000000          0.000000   \n",
       "max     1125.000000                42.00000     8.000000          4.000000   \n",
       "\n",
       "          recircle_b   recircle_u  initial_list_status    app_type  \\\n",
       "count    5000.000000  5000.000000            5000.0000  5000.00000   \n",
       "mean    16834.606677    54.142169               0.4074     0.01660   \n",
       "std     21757.810210    26.039213               0.4914     0.12778   \n",
       "min         0.000000     0.000000               0.0000     0.00000   \n",
       "25%      6019.673077    34.517308               0.0000     0.00000   \n",
       "50%     11526.807690    54.526923               0.0000     0.00000   \n",
       "75%     20816.519232    73.846154               1.0000     0.00000   \n",
       "max    473476.153800   152.423077               1.0000     1.00000   \n",
       "\n",
       "              title  policy_code           f0           f1           f2  \\\n",
       "count   5000.000000       5000.0  4741.000000  4546.000000  4741.000000   \n",
       "mean    1822.506600          1.0     5.650918     0.000880     8.589538   \n",
       "std     7971.472766          0.0     3.338728     0.029653     7.425200   \n",
       "min        0.000000          1.0     0.000000     0.000000     0.000000   \n",
       "25%        0.000000          1.0     3.000000     0.000000     3.000000   \n",
       "50%        2.000000          1.0     5.000000     0.000000     7.000000   \n",
       "75%        5.000000          1.0     7.000000     0.000000    11.000000   \n",
       "max    61330.000000          1.0    28.000000     1.000000    60.000000   \n",
       "\n",
       "                f3           f4  early_return  early_return_amount  \\\n",
       "count  4741.000000  4741.000000   5000.000000          5000.000000   \n",
       "mean     14.703649     8.132040      1.570000          2195.747800   \n",
       "std       8.123397     4.795245      1.456957          2995.760578   \n",
       "min       2.000000     0.000000      0.000000             0.000000   \n",
       "25%       9.000000     5.000000      0.000000             0.000000   \n",
       "50%      13.000000     7.000000      1.000000           890.000000   \n",
       "75%      19.000000    10.000000      3.000000          3426.000000   \n",
       "max      62.000000    38.000000      5.000000         19710.000000   \n",
       "\n",
       "       early_return_amount_3mon  \n",
       "count               5000.000000  \n",
       "mean                 338.945112  \n",
       "std                  623.447110  \n",
       "min                    0.000000  \n",
       "25%                    0.000000  \n",
       "50%                    0.000000  \n",
       "75%                  426.461539  \n",
       "max                 5968.846154  "
      ]
     },
     "execution_count": 5,
     "metadata": {},
     "output_type": "execute_result"
    }
   ],
   "source": [
    "test.describe()"
   ]
  },
  {
   "cell_type": "markdown",
   "metadata": {},
   "source": [
    "### 数据预处理"
   ]
  },
  {
   "cell_type": "code",
   "execution_count": 6,
   "metadata": {
    "ExecuteTime": {
     "end_time": "2021-10-11T15:31:54.949770Z",
     "start_time": "2021-10-11T15:31:54.945734Z"
    }
   },
   "outputs": [
    {
     "data": {
      "text/plain": [
       "39"
      ]
     },
     "execution_count": 6,
     "metadata": {},
     "output_type": "execute_result"
    }
   ],
   "source": [
    "## train_bank有这么多的列。呵呵哒。\n",
    "len(train_bank.columns)"
   ]
  },
  {
   "cell_type": "code",
   "execution_count": 7,
   "metadata": {
    "ExecuteTime": {
     "end_time": "2021-10-11T15:31:54.955673Z",
     "start_time": "2021-10-11T15:31:54.951819Z"
    }
   },
   "outputs": [
    {
     "data": {
      "text/plain": [
       "42"
      ]
     },
     "execution_count": 7,
     "metadata": {},
     "output_type": "execute_result"
    }
   ],
   "source": [
    "## train_internet有这么多的列：\n",
    "len(train_internet.columns)"
   ]
  },
  {
   "cell_type": "code",
   "execution_count": 8,
   "metadata": {
    "ExecuteTime": {
     "end_time": "2021-10-11T15:31:54.964285Z",
     "start_time": "2021-10-11T15:31:54.959265Z"
    }
   },
   "outputs": [
    {
     "data": {
      "text/plain": [
       "35"
      ]
     },
     "execution_count": 8,
     "metadata": {},
     "output_type": "execute_result"
    }
   ],
   "source": [
    "## 寻找共同的列\n",
    "common_cols = []\n",
    "for col in train_bank.columns:\n",
    "    if col in train_internet.columns:\n",
    "        common_cols.append(col)\n",
    "    else: continue\n",
    "len(common_cols)"
   ]
  },
  {
   "cell_type": "code",
   "execution_count": 9,
   "metadata": {
    "ExecuteTime": {
     "end_time": "2021-10-11T15:31:54.970944Z",
     "start_time": "2021-10-11T15:31:54.966368Z"
    }
   },
   "outputs": [
    {
     "data": {
      "text/plain": [
       "['loan_id',\n",
       " 'user_id',\n",
       " 'total_loan',\n",
       " 'year_of_loan',\n",
       " 'interest',\n",
       " 'monthly_payment',\n",
       " 'class',\n",
       " 'employer_type',\n",
       " 'industry',\n",
       " 'work_year',\n",
       " 'house_exist',\n",
       " 'censor_status',\n",
       " 'issue_date',\n",
       " 'use',\n",
       " 'post_code',\n",
       " 'region',\n",
       " 'debt_loan_ratio',\n",
       " 'del_in_18month',\n",
       " 'scoring_low',\n",
       " 'scoring_high',\n",
       " 'pub_dero_bankrup',\n",
       " 'recircle_b',\n",
       " 'recircle_u',\n",
       " 'initial_list_status',\n",
       " 'earlies_credit_mon',\n",
       " 'title',\n",
       " 'policy_code',\n",
       " 'f0',\n",
       " 'f1',\n",
       " 'f2',\n",
       " 'f3',\n",
       " 'f4',\n",
       " 'early_return',\n",
       " 'early_return_amount',\n",
       " 'early_return_amount_3mon']"
      ]
     },
     "execution_count": 9,
     "metadata": {},
     "output_type": "execute_result"
    }
   ],
   "source": [
    "common_cols"
   ]
  },
  {
   "cell_type": "code",
   "execution_count": 10,
   "metadata": {
    "ExecuteTime": {
     "end_time": "2021-10-11T15:31:57.191663Z",
     "start_time": "2021-10-11T15:31:57.187348Z"
    }
   },
   "outputs": [
    {
     "data": {
      "text/plain": [
       "['isDefault', 'known_outstanding_loan', 'app_type', 'known_dero']"
      ]
     },
     "execution_count": 10,
     "metadata": {},
     "output_type": "execute_result"
    }
   ],
   "source": [
    "train_bank_left = list(set(list(train_bank.columns)) - set(common_cols))\n",
    "train_internet_left = list(set(list(train_internet.columns)) - set(common_cols))\n",
    "\n",
    "## train_bank独有的列\n",
    "train_bank_left"
   ]
  },
  {
   "cell_type": "code",
   "execution_count": 11,
   "metadata": {
    "ExecuteTime": {
     "end_time": "2021-10-11T15:31:58.759241Z",
     "start_time": "2021-10-11T15:31:58.755710Z"
    }
   },
   "outputs": [
    {
     "data": {
      "text/plain": [
       "['house_loan_status',\n",
       " 'work_type',\n",
       " 'is_default',\n",
       " 'marriage',\n",
       " 'sub_class',\n",
       " 'offsprings',\n",
       " 'f5']"
      ]
     },
     "execution_count": 11,
     "metadata": {},
     "output_type": "execute_result"
    }
   ],
   "source": [
    "## train_internet独有的列\n",
    "train_internet_left"
   ]
  },
  {
   "cell_type": "code",
   "execution_count": 12,
   "metadata": {
    "ExecuteTime": {
     "end_time": "2021-10-11T15:33:06.892184Z",
     "start_time": "2021-10-11T15:33:06.742061Z"
    }
   },
   "outputs": [],
   "source": [
    "train1_data = train_internet[common_cols + [\"is_default\"]]\n",
    "train2_data = train_bank[common_cols + [\"isDefault\"]]\n",
    "test_data = test[common_cols]## test[common_cols[:-1]]"
   ]
  },
  {
   "cell_type": "markdown",
   "metadata": {},
   "source": [
    "处理日期类型的数据"
   ]
  },
  {
   "cell_type": "code",
   "execution_count": 13,
   "metadata": {
    "ExecuteTime": {
     "end_time": "2021-10-11T15:33:18.540786Z",
     "start_time": "2021-10-11T15:33:07.345850Z"
    }
   },
   "outputs": [],
   "source": [
    "import datetime\n",
    "\n",
    "# 日期类型：issueDate，earliesCreditLine\n",
    "# 转换为pandas中的日期类型\n",
    "train1_data['issue_date'] = pd.to_datetime(train1_data['issue_date'])\n",
    "# 提取多尺度特征\n",
    "train1_data['issue_date_y'] = train1_data['issue_date'].dt.year\n",
    "train1_data['issue_date_m'] = train1_data['issue_date'].dt.month\n",
    "# 提取时间diff\n",
    "# 设置初始的时间\n",
    "base_time = datetime.datetime.strptime('2007-06-01', '%Y-%m-%d')\n",
    "# 转换为天为单位\n",
    "train1_data['issue_date_diff'] = train1_data['issue_date'].apply(lambda x: x-base_time).dt.days\n",
    "train1_data[['issue_date', 'issue_date_y', 'issue_date_m', 'issue_date_diff']]\n",
    "train1_data.drop('issue_date', axis = 1, inplace = True)"
   ]
  },
  {
   "cell_type": "code",
   "execution_count": 14,
   "metadata": {
    "ExecuteTime": {
     "end_time": "2021-10-11T15:33:18.770653Z",
     "start_time": "2021-10-11T15:33:18.543095Z"
    }
   },
   "outputs": [
    {
     "data": {
      "text/html": [
       "<div>\n",
       "<style scoped>\n",
       "    .dataframe tbody tr th:only-of-type {\n",
       "        vertical-align: middle;\n",
       "    }\n",
       "\n",
       "    .dataframe tbody tr th {\n",
       "        vertical-align: top;\n",
       "    }\n",
       "\n",
       "    .dataframe thead th {\n",
       "        text-align: right;\n",
       "    }\n",
       "</style>\n",
       "<table border=\"1\" class=\"dataframe\">\n",
       "  <thead>\n",
       "    <tr style=\"text-align: right;\">\n",
       "      <th></th>\n",
       "      <th>loan_id</th>\n",
       "      <th>user_id</th>\n",
       "      <th>total_loan</th>\n",
       "      <th>year_of_loan</th>\n",
       "      <th>interest</th>\n",
       "      <th>monthly_payment</th>\n",
       "      <th>class</th>\n",
       "      <th>employer_type</th>\n",
       "      <th>industry</th>\n",
       "      <th>work_year</th>\n",
       "      <th>house_exist</th>\n",
       "      <th>censor_status</th>\n",
       "      <th>use</th>\n",
       "      <th>post_code</th>\n",
       "      <th>region</th>\n",
       "      <th>debt_loan_ratio</th>\n",
       "      <th>del_in_18month</th>\n",
       "      <th>scoring_low</th>\n",
       "      <th>scoring_high</th>\n",
       "      <th>pub_dero_bankrup</th>\n",
       "      <th>recircle_b</th>\n",
       "      <th>recircle_u</th>\n",
       "      <th>initial_list_status</th>\n",
       "      <th>earlies_credit_mon</th>\n",
       "      <th>title</th>\n",
       "      <th>policy_code</th>\n",
       "      <th>f0</th>\n",
       "      <th>f1</th>\n",
       "      <th>f2</th>\n",
       "      <th>f3</th>\n",
       "      <th>f4</th>\n",
       "      <th>early_return</th>\n",
       "      <th>early_return_amount</th>\n",
       "      <th>early_return_amount_3mon</th>\n",
       "      <th>isDefault</th>\n",
       "      <th>issue_date_y</th>\n",
       "      <th>issue_date_m</th>\n",
       "      <th>issue_date_diff</th>\n",
       "    </tr>\n",
       "  </thead>\n",
       "  <tbody>\n",
       "    <tr>\n",
       "      <th>0</th>\n",
       "      <td>1040418</td>\n",
       "      <td>240418</td>\n",
       "      <td>31818.18182</td>\n",
       "      <td>3</td>\n",
       "      <td>11.466</td>\n",
       "      <td>1174.91</td>\n",
       "      <td>C</td>\n",
       "      <td>政府机构</td>\n",
       "      <td>金融业</td>\n",
       "      <td>3 years</td>\n",
       "      <td>0</td>\n",
       "      <td>1</td>\n",
       "      <td>2</td>\n",
       "      <td>193</td>\n",
       "      <td>13</td>\n",
       "      <td>2.430000</td>\n",
       "      <td>0</td>\n",
       "      <td>556.363636</td>\n",
       "      <td>649.090909</td>\n",
       "      <td>0.0</td>\n",
       "      <td>7734.230769</td>\n",
       "      <td>91.800000</td>\n",
       "      <td>0</td>\n",
       "      <td>1-Dec</td>\n",
       "      <td>5</td>\n",
       "      <td>1</td>\n",
       "      <td>1.0</td>\n",
       "      <td>0.0</td>\n",
       "      <td>4.0</td>\n",
       "      <td>5.0</td>\n",
       "      <td>4.0</td>\n",
       "      <td>3</td>\n",
       "      <td>9927</td>\n",
       "      <td>0.0</td>\n",
       "      <td>0</td>\n",
       "      <td>2016</td>\n",
       "      <td>10</td>\n",
       "      <td>3410</td>\n",
       "    </tr>\n",
       "    <tr>\n",
       "      <th>1</th>\n",
       "      <td>1025197</td>\n",
       "      <td>225197</td>\n",
       "      <td>28000.00000</td>\n",
       "      <td>5</td>\n",
       "      <td>16.841</td>\n",
       "      <td>670.69</td>\n",
       "      <td>C</td>\n",
       "      <td>政府机构</td>\n",
       "      <td>金融业</td>\n",
       "      <td>10+ years</td>\n",
       "      <td>0</td>\n",
       "      <td>2</td>\n",
       "      <td>0</td>\n",
       "      <td>491</td>\n",
       "      <td>30</td>\n",
       "      <td>11.004545</td>\n",
       "      <td>1</td>\n",
       "      <td>715.000000</td>\n",
       "      <td>893.750000</td>\n",
       "      <td>0.0</td>\n",
       "      <td>31329.000000</td>\n",
       "      <td>54.800000</td>\n",
       "      <td>1</td>\n",
       "      <td>Apr-90</td>\n",
       "      <td>40642</td>\n",
       "      <td>1</td>\n",
       "      <td>7.0</td>\n",
       "      <td>0.0</td>\n",
       "      <td>4.0</td>\n",
       "      <td>45.0</td>\n",
       "      <td>22.0</td>\n",
       "      <td>0</td>\n",
       "      <td>0</td>\n",
       "      <td>0.0</td>\n",
       "      <td>0</td>\n",
       "      <td>2013</td>\n",
       "      <td>6</td>\n",
       "      <td>2192</td>\n",
       "    </tr>\n",
       "    <tr>\n",
       "      <th>2</th>\n",
       "      <td>1009360</td>\n",
       "      <td>209360</td>\n",
       "      <td>17272.72727</td>\n",
       "      <td>3</td>\n",
       "      <td>8.900</td>\n",
       "      <td>603.32</td>\n",
       "      <td>A</td>\n",
       "      <td>政府机构</td>\n",
       "      <td>公共服务、社会组织</td>\n",
       "      <td>10+ years</td>\n",
       "      <td>1</td>\n",
       "      <td>0</td>\n",
       "      <td>4</td>\n",
       "      <td>459</td>\n",
       "      <td>8</td>\n",
       "      <td>6.409091</td>\n",
       "      <td>0</td>\n",
       "      <td>774.545455</td>\n",
       "      <td>903.636364</td>\n",
       "      <td>0.0</td>\n",
       "      <td>18514.000000</td>\n",
       "      <td>57.692308</td>\n",
       "      <td>1</td>\n",
       "      <td>Oct-91</td>\n",
       "      <td>154</td>\n",
       "      <td>1</td>\n",
       "      <td>6.0</td>\n",
       "      <td>0.0</td>\n",
       "      <td>6.0</td>\n",
       "      <td>28.0</td>\n",
       "      <td>19.0</td>\n",
       "      <td>0</td>\n",
       "      <td>0</td>\n",
       "      <td>0.0</td>\n",
       "      <td>0</td>\n",
       "      <td>2014</td>\n",
       "      <td>1</td>\n",
       "      <td>2406</td>\n",
       "    </tr>\n",
       "    <tr>\n",
       "      <th>3</th>\n",
       "      <td>1039708</td>\n",
       "      <td>239708</td>\n",
       "      <td>20000.00000</td>\n",
       "      <td>3</td>\n",
       "      <td>4.788</td>\n",
       "      <td>602.30</td>\n",
       "      <td>A</td>\n",
       "      <td>世界五百强</td>\n",
       "      <td>文化和体育业</td>\n",
       "      <td>6 years</td>\n",
       "      <td>0</td>\n",
       "      <td>1</td>\n",
       "      <td>0</td>\n",
       "      <td>157</td>\n",
       "      <td>8</td>\n",
       "      <td>9.204545</td>\n",
       "      <td>0</td>\n",
       "      <td>750.000000</td>\n",
       "      <td>875.000000</td>\n",
       "      <td>0.0</td>\n",
       "      <td>20707.000000</td>\n",
       "      <td>42.600000</td>\n",
       "      <td>0</td>\n",
       "      <td>1-Jun</td>\n",
       "      <td>0</td>\n",
       "      <td>1</td>\n",
       "      <td>5.0</td>\n",
       "      <td>0.0</td>\n",
       "      <td>10.0</td>\n",
       "      <td>15.0</td>\n",
       "      <td>9.0</td>\n",
       "      <td>0</td>\n",
       "      <td>0</td>\n",
       "      <td>0.0</td>\n",
       "      <td>0</td>\n",
       "      <td>2015</td>\n",
       "      <td>7</td>\n",
       "      <td>2952</td>\n",
       "    </tr>\n",
       "    <tr>\n",
       "      <th>4</th>\n",
       "      <td>1027483</td>\n",
       "      <td>227483</td>\n",
       "      <td>15272.72727</td>\n",
       "      <td>3</td>\n",
       "      <td>12.790</td>\n",
       "      <td>470.31</td>\n",
       "      <td>C</td>\n",
       "      <td>政府机构</td>\n",
       "      <td>信息传输、软件和信息技术服务业</td>\n",
       "      <td>&lt; 1 year</td>\n",
       "      <td>2</td>\n",
       "      <td>1</td>\n",
       "      <td>0</td>\n",
       "      <td>38</td>\n",
       "      <td>21</td>\n",
       "      <td>15.578182</td>\n",
       "      <td>0</td>\n",
       "      <td>609.090909</td>\n",
       "      <td>710.606061</td>\n",
       "      <td>0.0</td>\n",
       "      <td>14016.153850</td>\n",
       "      <td>30.461538</td>\n",
       "      <td>0</td>\n",
       "      <td>2-May</td>\n",
       "      <td>0</td>\n",
       "      <td>1</td>\n",
       "      <td>10.0</td>\n",
       "      <td>0.0</td>\n",
       "      <td>6.0</td>\n",
       "      <td>15.0</td>\n",
       "      <td>4.0</td>\n",
       "      <td>0</td>\n",
       "      <td>0</td>\n",
       "      <td>0.0</td>\n",
       "      <td>0</td>\n",
       "      <td>2016</td>\n",
       "      <td>7</td>\n",
       "      <td>3318</td>\n",
       "    </tr>\n",
       "    <tr>\n",
       "      <th>...</th>\n",
       "      <td>...</td>\n",
       "      <td>...</td>\n",
       "      <td>...</td>\n",
       "      <td>...</td>\n",
       "      <td>...</td>\n",
       "      <td>...</td>\n",
       "      <td>...</td>\n",
       "      <td>...</td>\n",
       "      <td>...</td>\n",
       "      <td>...</td>\n",
       "      <td>...</td>\n",
       "      <td>...</td>\n",
       "      <td>...</td>\n",
       "      <td>...</td>\n",
       "      <td>...</td>\n",
       "      <td>...</td>\n",
       "      <td>...</td>\n",
       "      <td>...</td>\n",
       "      <td>...</td>\n",
       "      <td>...</td>\n",
       "      <td>...</td>\n",
       "      <td>...</td>\n",
       "      <td>...</td>\n",
       "      <td>...</td>\n",
       "      <td>...</td>\n",
       "      <td>...</td>\n",
       "      <td>...</td>\n",
       "      <td>...</td>\n",
       "      <td>...</td>\n",
       "      <td>...</td>\n",
       "      <td>...</td>\n",
       "      <td>...</td>\n",
       "      <td>...</td>\n",
       "      <td>...</td>\n",
       "      <td>...</td>\n",
       "      <td>...</td>\n",
       "      <td>...</td>\n",
       "      <td>...</td>\n",
       "    </tr>\n",
       "    <tr>\n",
       "      <th>9995</th>\n",
       "      <td>1028093</td>\n",
       "      <td>228093</td>\n",
       "      <td>17727.27273</td>\n",
       "      <td>3</td>\n",
       "      <td>15.037</td>\n",
       "      <td>510.27</td>\n",
       "      <td>B</td>\n",
       "      <td>普通企业</td>\n",
       "      <td>建筑业</td>\n",
       "      <td>7 years</td>\n",
       "      <td>1</td>\n",
       "      <td>1</td>\n",
       "      <td>4</td>\n",
       "      <td>49</td>\n",
       "      <td>12</td>\n",
       "      <td>10.483636</td>\n",
       "      <td>0</td>\n",
       "      <td>720.000000</td>\n",
       "      <td>780.000000</td>\n",
       "      <td>0.0</td>\n",
       "      <td>19864.923080</td>\n",
       "      <td>45.507692</td>\n",
       "      <td>1</td>\n",
       "      <td>6-Feb</td>\n",
       "      <td>234</td>\n",
       "      <td>1</td>\n",
       "      <td>4.0</td>\n",
       "      <td>0.0</td>\n",
       "      <td>4.0</td>\n",
       "      <td>11.0</td>\n",
       "      <td>7.0</td>\n",
       "      <td>2</td>\n",
       "      <td>5287</td>\n",
       "      <td>0.0</td>\n",
       "      <td>0</td>\n",
       "      <td>2013</td>\n",
       "      <td>11</td>\n",
       "      <td>2345</td>\n",
       "    </tr>\n",
       "    <tr>\n",
       "      <th>9996</th>\n",
       "      <td>1043911</td>\n",
       "      <td>243911</td>\n",
       "      <td>13636.36364</td>\n",
       "      <td>3</td>\n",
       "      <td>6.534</td>\n",
       "      <td>464.95</td>\n",
       "      <td>A</td>\n",
       "      <td>政府机构</td>\n",
       "      <td>农、林、牧、渔业</td>\n",
       "      <td>2 years</td>\n",
       "      <td>1</td>\n",
       "      <td>1</td>\n",
       "      <td>0</td>\n",
       "      <td>143</td>\n",
       "      <td>8</td>\n",
       "      <td>0.654545</td>\n",
       "      <td>0</td>\n",
       "      <td>642.272727</td>\n",
       "      <td>749.318182</td>\n",
       "      <td>0.0</td>\n",
       "      <td>2025.000000</td>\n",
       "      <td>10.300000</td>\n",
       "      <td>0</td>\n",
       "      <td>May-97</td>\n",
       "      <td>0</td>\n",
       "      <td>1</td>\n",
       "      <td>2.0</td>\n",
       "      <td>0.0</td>\n",
       "      <td>2.0</td>\n",
       "      <td>7.0</td>\n",
       "      <td>6.0</td>\n",
       "      <td>3</td>\n",
       "      <td>7182</td>\n",
       "      <td>0.0</td>\n",
       "      <td>0</td>\n",
       "      <td>2015</td>\n",
       "      <td>12</td>\n",
       "      <td>3105</td>\n",
       "    </tr>\n",
       "    <tr>\n",
       "      <th>9997</th>\n",
       "      <td>1023503</td>\n",
       "      <td>223503</td>\n",
       "      <td>24818.18182</td>\n",
       "      <td>3</td>\n",
       "      <td>14.421</td>\n",
       "      <td>708.69</td>\n",
       "      <td>B</td>\n",
       "      <td>普通企业</td>\n",
       "      <td>信息传输、软件和信息技术服务业</td>\n",
       "      <td>10+ years</td>\n",
       "      <td>0</td>\n",
       "      <td>0</td>\n",
       "      <td>4</td>\n",
       "      <td>66</td>\n",
       "      <td>14</td>\n",
       "      <td>20.421818</td>\n",
       "      <td>1</td>\n",
       "      <td>780.000000</td>\n",
       "      <td>910.000000</td>\n",
       "      <td>0.0</td>\n",
       "      <td>12641.000000</td>\n",
       "      <td>21.876923</td>\n",
       "      <td>1</td>\n",
       "      <td>Feb-87</td>\n",
       "      <td>120</td>\n",
       "      <td>1</td>\n",
       "      <td>6.0</td>\n",
       "      <td>0.0</td>\n",
       "      <td>5.0</td>\n",
       "      <td>15.0</td>\n",
       "      <td>11.0</td>\n",
       "      <td>1</td>\n",
       "      <td>8540</td>\n",
       "      <td>2562.0</td>\n",
       "      <td>0</td>\n",
       "      <td>2012</td>\n",
       "      <td>12</td>\n",
       "      <td>2010</td>\n",
       "    </tr>\n",
       "    <tr>\n",
       "      <th>9998</th>\n",
       "      <td>1024616</td>\n",
       "      <td>224616</td>\n",
       "      <td>20000.00000</td>\n",
       "      <td>3</td>\n",
       "      <td>18.450</td>\n",
       "      <td>727.58</td>\n",
       "      <td>D</td>\n",
       "      <td>政府机构</td>\n",
       "      <td>农、林、牧、渔业</td>\n",
       "      <td>10+ years</td>\n",
       "      <td>0</td>\n",
       "      <td>0</td>\n",
       "      <td>2</td>\n",
       "      <td>19</td>\n",
       "      <td>14</td>\n",
       "      <td>14.048182</td>\n",
       "      <td>0</td>\n",
       "      <td>552.272727</td>\n",
       "      <td>690.340909</td>\n",
       "      <td>0.0</td>\n",
       "      <td>24642.692310</td>\n",
       "      <td>60.646154</td>\n",
       "      <td>0</td>\n",
       "      <td>Oct-92</td>\n",
       "      <td>5</td>\n",
       "      <td>1</td>\n",
       "      <td>7.0</td>\n",
       "      <td>0.0</td>\n",
       "      <td>5.0</td>\n",
       "      <td>17.0</td>\n",
       "      <td>10.0</td>\n",
       "      <td>2</td>\n",
       "      <td>6161</td>\n",
       "      <td>616.1</td>\n",
       "      <td>0</td>\n",
       "      <td>2018</td>\n",
       "      <td>3</td>\n",
       "      <td>3926</td>\n",
       "    </tr>\n",
       "    <tr>\n",
       "      <th>9999</th>\n",
       "      <td>1021034</td>\n",
       "      <td>221034</td>\n",
       "      <td>1000.00000</td>\n",
       "      <td>3</td>\n",
       "      <td>14.014</td>\n",
       "      <td>33.57</td>\n",
       "      <td>C</td>\n",
       "      <td>高等教育机构</td>\n",
       "      <td>信息传输、软件和信息技术服务业</td>\n",
       "      <td>7 years</td>\n",
       "      <td>1</td>\n",
       "      <td>0</td>\n",
       "      <td>0</td>\n",
       "      <td>566</td>\n",
       "      <td>30</td>\n",
       "      <td>3.280000</td>\n",
       "      <td>0</td>\n",
       "      <td>685.000000</td>\n",
       "      <td>799.166667</td>\n",
       "      <td>0.0</td>\n",
       "      <td>1802.307692</td>\n",
       "      <td>22.400000</td>\n",
       "      <td>1</td>\n",
       "      <td>9-Feb</td>\n",
       "      <td>0</td>\n",
       "      <td>1</td>\n",
       "      <td>3.0</td>\n",
       "      <td>0.0</td>\n",
       "      <td>2.0</td>\n",
       "      <td>9.0</td>\n",
       "      <td>6.0</td>\n",
       "      <td>3</td>\n",
       "      <td>299</td>\n",
       "      <td>59.8</td>\n",
       "      <td>0</td>\n",
       "      <td>2017</td>\n",
       "      <td>5</td>\n",
       "      <td>3622</td>\n",
       "    </tr>\n",
       "  </tbody>\n",
       "</table>\n",
       "<p>10000 rows × 38 columns</p>\n",
       "</div>"
      ],
      "text/plain": [
       "      loan_id  user_id   total_loan  year_of_loan  interest  monthly_payment  \\\n",
       "0     1040418   240418  31818.18182             3    11.466          1174.91   \n",
       "1     1025197   225197  28000.00000             5    16.841           670.69   \n",
       "2     1009360   209360  17272.72727             3     8.900           603.32   \n",
       "3     1039708   239708  20000.00000             3     4.788           602.30   \n",
       "4     1027483   227483  15272.72727             3    12.790           470.31   \n",
       "...       ...      ...          ...           ...       ...              ...   \n",
       "9995  1028093   228093  17727.27273             3    15.037           510.27   \n",
       "9996  1043911   243911  13636.36364             3     6.534           464.95   \n",
       "9997  1023503   223503  24818.18182             3    14.421           708.69   \n",
       "9998  1024616   224616  20000.00000             3    18.450           727.58   \n",
       "9999  1021034   221034   1000.00000             3    14.014            33.57   \n",
       "\n",
       "     class employer_type         industry  work_year  house_exist  \\\n",
       "0        C          政府机构              金融业    3 years            0   \n",
       "1        C          政府机构              金融业  10+ years            0   \n",
       "2        A          政府机构        公共服务、社会组织  10+ years            1   \n",
       "3        A         世界五百强           文化和体育业    6 years            0   \n",
       "4        C          政府机构  信息传输、软件和信息技术服务业   < 1 year            2   \n",
       "...    ...           ...              ...        ...          ...   \n",
       "9995     B          普通企业              建筑业    7 years            1   \n",
       "9996     A          政府机构         农、林、牧、渔业    2 years            1   \n",
       "9997     B          普通企业  信息传输、软件和信息技术服务业  10+ years            0   \n",
       "9998     D          政府机构         农、林、牧、渔业  10+ years            0   \n",
       "9999     C        高等教育机构  信息传输、软件和信息技术服务业    7 years            1   \n",
       "\n",
       "      censor_status  use  post_code  region  debt_loan_ratio  del_in_18month  \\\n",
       "0                 1    2        193      13         2.430000               0   \n",
       "1                 2    0        491      30        11.004545               1   \n",
       "2                 0    4        459       8         6.409091               0   \n",
       "3                 1    0        157       8         9.204545               0   \n",
       "4                 1    0         38      21        15.578182               0   \n",
       "...             ...  ...        ...     ...              ...             ...   \n",
       "9995              1    4         49      12        10.483636               0   \n",
       "9996              1    0        143       8         0.654545               0   \n",
       "9997              0    4         66      14        20.421818               1   \n",
       "9998              0    2         19      14        14.048182               0   \n",
       "9999              0    0        566      30         3.280000               0   \n",
       "\n",
       "      scoring_low  scoring_high  pub_dero_bankrup    recircle_b  recircle_u  \\\n",
       "0      556.363636    649.090909               0.0   7734.230769   91.800000   \n",
       "1      715.000000    893.750000               0.0  31329.000000   54.800000   \n",
       "2      774.545455    903.636364               0.0  18514.000000   57.692308   \n",
       "3      750.000000    875.000000               0.0  20707.000000   42.600000   \n",
       "4      609.090909    710.606061               0.0  14016.153850   30.461538   \n",
       "...           ...           ...               ...           ...         ...   \n",
       "9995   720.000000    780.000000               0.0  19864.923080   45.507692   \n",
       "9996   642.272727    749.318182               0.0   2025.000000   10.300000   \n",
       "9997   780.000000    910.000000               0.0  12641.000000   21.876923   \n",
       "9998   552.272727    690.340909               0.0  24642.692310   60.646154   \n",
       "9999   685.000000    799.166667               0.0   1802.307692   22.400000   \n",
       "\n",
       "      initial_list_status earlies_credit_mon  title  policy_code    f0   f1  \\\n",
       "0                       0              1-Dec      5            1   1.0  0.0   \n",
       "1                       1             Apr-90  40642            1   7.0  0.0   \n",
       "2                       1             Oct-91    154            1   6.0  0.0   \n",
       "3                       0              1-Jun      0            1   5.0  0.0   \n",
       "4                       0              2-May      0            1  10.0  0.0   \n",
       "...                   ...                ...    ...          ...   ...  ...   \n",
       "9995                    1              6-Feb    234            1   4.0  0.0   \n",
       "9996                    0             May-97      0            1   2.0  0.0   \n",
       "9997                    1             Feb-87    120            1   6.0  0.0   \n",
       "9998                    0             Oct-92      5            1   7.0  0.0   \n",
       "9999                    1              9-Feb      0            1   3.0  0.0   \n",
       "\n",
       "        f2    f3    f4  early_return  early_return_amount  \\\n",
       "0      4.0   5.0   4.0             3                 9927   \n",
       "1      4.0  45.0  22.0             0                    0   \n",
       "2      6.0  28.0  19.0             0                    0   \n",
       "3     10.0  15.0   9.0             0                    0   \n",
       "4      6.0  15.0   4.0             0                    0   \n",
       "...    ...   ...   ...           ...                  ...   \n",
       "9995   4.0  11.0   7.0             2                 5287   \n",
       "9996   2.0   7.0   6.0             3                 7182   \n",
       "9997   5.0  15.0  11.0             1                 8540   \n",
       "9998   5.0  17.0  10.0             2                 6161   \n",
       "9999   2.0   9.0   6.0             3                  299   \n",
       "\n",
       "      early_return_amount_3mon  isDefault  issue_date_y  issue_date_m  \\\n",
       "0                          0.0          0          2016            10   \n",
       "1                          0.0          0          2013             6   \n",
       "2                          0.0          0          2014             1   \n",
       "3                          0.0          0          2015             7   \n",
       "4                          0.0          0          2016             7   \n",
       "...                        ...        ...           ...           ...   \n",
       "9995                       0.0          0          2013            11   \n",
       "9996                       0.0          0          2015            12   \n",
       "9997                    2562.0          0          2012            12   \n",
       "9998                     616.1          0          2018             3   \n",
       "9999                      59.8          0          2017             5   \n",
       "\n",
       "      issue_date_diff  \n",
       "0                3410  \n",
       "1                2192  \n",
       "2                2406  \n",
       "3                2952  \n",
       "4                3318  \n",
       "...               ...  \n",
       "9995             2345  \n",
       "9996             3105  \n",
       "9997             2010  \n",
       "9998             3926  \n",
       "9999             3622  \n",
       "\n",
       "[10000 rows x 38 columns]"
      ]
     },
     "execution_count": 14,
     "metadata": {},
     "output_type": "execute_result"
    }
   ],
   "source": [
    "# 日期类型：issueDate，earliesCreditLine\n",
    "# 转换为pandas中的日期类型\n",
    "train2_data['issue_date'] = pd.to_datetime(train2_data['issue_date'])\n",
    "# 提取多尺度特征\n",
    "train2_data['issue_date_y'] = train2_data['issue_date'].dt.year\n",
    "train2_data['issue_date_m'] = train2_data['issue_date'].dt.month\n",
    "# 提取时间diff\n",
    "# 设置初始的时间\n",
    "base_time = datetime.datetime.strptime('2007-06-01', '%Y-%m-%d')\n",
    "# 转换为天为单位\n",
    "train2_data['issue_date_diff'] = train2_data['issue_date'].apply(lambda x: x-base_time).dt.days\n",
    "train2_data[['issue_date', 'issue_date_y', 'issue_date_m', 'issue_date_diff']]\n",
    "train2_data.drop('issue_date', axis = 1, inplace = True)\n",
    "train2_data"
   ]
  },
  {
   "cell_type": "markdown",
   "metadata": {},
   "source": [
    "这边用的方法很明显是一种encode 方法。可能可以做一点改进：\n",
    "- 用一些库来做encoding，而不是这样一种粗放的形式。\n",
    "- 用onehot来搞。因为这种东西没有值递增的关系，所以用onehot可能会更好。不知道这个是不是可以在lightGBM里面设置，就是某些列进行onehot。"
   ]
  },
  {
   "cell_type": "code",
   "execution_count": 15,
   "metadata": {
    "ExecuteTime": {
     "end_time": "2021-10-11T15:33:18.919168Z",
     "start_time": "2021-10-11T15:33:18.773309Z"
    }
   },
   "outputs": [],
   "source": [
    "\n",
    "emp_type_dict = dict(zip(employer_type, [0,1,2,3,4,5]))\n",
    "employer_type = train1_data['employer_type'].value_counts().index\n",
    "train1_data['employer_type'] = train1_data['employer_type'].map(emp_type_dict)\n",
    "train2_data['employer_type'] = train2_data['employer_type'].map(emp_type_dict)\n",
    "\n",
    "industry_dict = dict(zip(industry, [i for i in range(15)]))\n",
    "industry = train1_data['industry'].value_counts().index\n",
    "train1_data['industry'] = train1_data['industry'].map(industry_dict)\n",
    "train2_data['industry'] = train2_data['industry'].map(industry_dict)"
   ]
  },
  {
   "cell_type": "markdown",
   "metadata": {},
   "source": [
    "下面这些个东东啊，是有递增关系的。所以我们无需对其进行onehot. "
   ]
  },
  {
   "cell_type": "code",
   "execution_count": 17,
   "metadata": {
    "ExecuteTime": {
     "end_time": "2021-10-11T15:33:19.223150Z",
     "start_time": "2021-10-11T15:33:18.926039Z"
    }
   },
   "outputs": [],
   "source": [
    "train1_data['work_year'].fillna('10+ years', inplace=True)\n",
    "train2_data['work_year'].fillna('10+ years', inplace=True)\n",
    "\n",
    "work_year_map = {'10+ years': 10, '2 years': 2, '< 1 year': 0, '3 years': 3, '1 year': 1,\n",
    "     '5 years': 5, '4 years': 4, '6 years': 6, '8 years': 8, '7 years': 7, '9 years': 9}\n",
    "train1_data['work_year']  = train1_data['work_year'].map(work_year_map)\n",
    "train2_data['work_year']  = train2_data['work_year'].map(work_year_map)\n",
    "\n",
    "train1_data['class'] = train1_data['class'].map({'A': 0, 'B': 1, 'C': 2, 'D': 3, 'E': 4, 'F': 5, 'G': 6})\n",
    "train2_data['class'] = train2_data['class'].map({'A': 0, 'B': 1, 'C': 2, 'D': 3, 'E': 4, 'F': 5, 'G': 6})"
   ]
  },
  {
   "cell_type": "markdown",
   "metadata": {},
   "source": [
    "对test_data做一样的操作。"
   ]
  },
  {
   "cell_type": "code",
   "execution_count": 18,
   "metadata": {
    "ExecuteTime": {
     "end_time": "2021-10-11T15:33:19.318741Z",
     "start_time": "2021-10-11T15:33:19.224961Z"
    }
   },
   "outputs": [],
   "source": [
    "# 日期类型：issueDate，earliesCreditLine\n",
    "#train[cat_features]\n",
    "# 转换为pandas中的日期类型\n",
    "test_data['issue_date'] = pd.to_datetime(test_data['issue_date'])\n",
    "# 提取多尺度特征\n",
    "test_data['issue_date_y'] = test_data['issue_date'].dt.year\n",
    "test_data['issue_date_m'] = test_data['issue_date'].dt.month\n",
    "# 提取时间diff\n",
    "# 设置初始的时间\n",
    "base_time = datetime.datetime.strptime('2007-06-01', '%Y-%m-%d')\n",
    "# 转换为天为单位\n",
    "test_data['issue_date_diff'] = test_data['issue_date'].apply(lambda x: x-base_time).dt.days\n",
    "test_data[['issue_date', 'issue_date_y', 'issue_date_m', 'issue_date_diff']]\n",
    "test_data.drop('issue_date', axis = 1, inplace = True)\n",
    "test_data['work_year'].fillna('10+ years', inplace=True)\n",
    "\n",
    "work_year_map = {'10+ years': 10, '2 years': 2, '< 1 year': 0, '3 years': 3, '1 year': 1,\n",
    "     '5 years': 5, '4 years': 4, '6 years': 6, '8 years': 8, '7 years': 7, '9 years': 9}\n",
    "test_data['work_year']  = test_data['work_year'].map(work_year_map)\n",
    "test_data['class'] = test_data['class'].map({'A': 0, 'B': 1, 'C': 2, 'D': 3, 'E': 4, 'F': 5, 'G': 6})\n",
    "test_data['employer_type'] = test_data['employer_type'].map(emp_type_dict)\n",
    "test_data['industry'] = test_data['industry'].map(industry_dict)"
   ]
  },
  {
   "cell_type": "markdown",
   "metadata": {},
   "source": [
    "## 模型使用\n",
    "1) LigthGBM\n",
    "2) NN"
   ]
  },
  {
   "cell_type": "markdown",
   "metadata": {},
   "source": [
    "##### 使用internet和bank数据共同特征总量训练"
   ]
  },
  {
   "cell_type": "raw",
   "metadata": {
    "ExecuteTime": {
     "end_time": "2021-10-05T16:14:30.870749Z",
     "start_time": "2021-10-05T16:14:28.606866Z"
    }
   },
   "source": [
    "!pip install lightgbm"
   ]
  },
  {
   "cell_type": "code",
   "execution_count": 19,
   "metadata": {
    "ExecuteTime": {
     "end_time": "2021-10-11T15:33:23.520247Z",
     "start_time": "2021-10-11T15:33:23.516050Z"
    }
   },
   "outputs": [
    {
     "data": {
      "text/plain": [
       "Index(['loan_id', 'user_id', 'total_loan', 'year_of_loan', 'interest',\n",
       "       'monthly_payment', 'class', 'employer_type', 'industry', 'work_year',\n",
       "       'house_exist', 'censor_status', 'use', 'post_code', 'region',\n",
       "       'debt_loan_ratio', 'del_in_18month', 'scoring_low', 'scoring_high',\n",
       "       'pub_dero_bankrup', 'recircle_b', 'recircle_u', 'initial_list_status',\n",
       "       'earlies_credit_mon', 'title', 'policy_code', 'f0', 'f1', 'f2', 'f3',\n",
       "       'f4', 'early_return', 'early_return_amount', 'early_return_amount_3mon',\n",
       "       'is_default', 'issue_date_y', 'issue_date_m', 'issue_date_diff'],\n",
       "      dtype='object')"
      ]
     },
     "execution_count": 19,
     "metadata": {},
     "output_type": "execute_result"
    }
   ],
   "source": [
    "train1_data.columns"
   ]
  },
  {
   "cell_type": "markdown",
   "metadata": {},
   "source": [
    "我很好奇，这个isDefault列什么时候丢掉的？"
   ]
  },
  {
   "cell_type": "code",
   "execution_count": 20,
   "metadata": {
    "ExecuteTime": {
     "end_time": "2021-10-11T15:33:31.444509Z",
     "start_time": "2021-10-11T15:33:31.441004Z"
    }
   },
   "outputs": [
    {
     "data": {
      "text/plain": [
       "(750000, 38)"
      ]
     },
     "execution_count": 20,
     "metadata": {},
     "output_type": "execute_result"
    }
   ],
   "source": [
    "train1_data.shape"
   ]
  },
  {
   "cell_type": "code",
   "execution_count": 21,
   "metadata": {
    "ExecuteTime": {
     "end_time": "2021-10-11T15:33:37.042135Z",
     "start_time": "2021-10-11T15:33:37.011536Z"
    }
   },
   "outputs": [
    {
     "data": {
      "text/html": [
       "<div>\n",
       "<style scoped>\n",
       "    .dataframe tbody tr th:only-of-type {\n",
       "        vertical-align: middle;\n",
       "    }\n",
       "\n",
       "    .dataframe tbody tr th {\n",
       "        vertical-align: top;\n",
       "    }\n",
       "\n",
       "    .dataframe thead th {\n",
       "        text-align: right;\n",
       "    }\n",
       "</style>\n",
       "<table border=\"1\" class=\"dataframe\">\n",
       "  <thead>\n",
       "    <tr style=\"text-align: right;\">\n",
       "      <th></th>\n",
       "      <th>loan_id</th>\n",
       "      <th>user_id</th>\n",
       "      <th>total_loan</th>\n",
       "      <th>year_of_loan</th>\n",
       "      <th>interest</th>\n",
       "      <th>monthly_payment</th>\n",
       "      <th>class</th>\n",
       "      <th>employer_type</th>\n",
       "      <th>industry</th>\n",
       "      <th>work_year</th>\n",
       "      <th>house_exist</th>\n",
       "      <th>censor_status</th>\n",
       "      <th>use</th>\n",
       "      <th>post_code</th>\n",
       "      <th>region</th>\n",
       "      <th>debt_loan_ratio</th>\n",
       "      <th>del_in_18month</th>\n",
       "      <th>scoring_low</th>\n",
       "      <th>scoring_high</th>\n",
       "      <th>pub_dero_bankrup</th>\n",
       "      <th>recircle_b</th>\n",
       "      <th>recircle_u</th>\n",
       "      <th>initial_list_status</th>\n",
       "      <th>earlies_credit_mon</th>\n",
       "      <th>title</th>\n",
       "      <th>policy_code</th>\n",
       "      <th>f0</th>\n",
       "      <th>f1</th>\n",
       "      <th>f2</th>\n",
       "      <th>f3</th>\n",
       "      <th>f4</th>\n",
       "      <th>early_return</th>\n",
       "      <th>early_return_amount</th>\n",
       "      <th>early_return_amount_3mon</th>\n",
       "      <th>is_default</th>\n",
       "      <th>issue_date_y</th>\n",
       "      <th>issue_date_m</th>\n",
       "      <th>issue_date_diff</th>\n",
       "    </tr>\n",
       "  </thead>\n",
       "  <tbody>\n",
       "    <tr>\n",
       "      <th>0</th>\n",
       "      <td>119262</td>\n",
       "      <td>0</td>\n",
       "      <td>12000.0</td>\n",
       "      <td>5</td>\n",
       "      <td>11.53</td>\n",
       "      <td>264.10</td>\n",
       "      <td>1</td>\n",
       "      <td>0</td>\n",
       "      <td>10</td>\n",
       "      <td>10</td>\n",
       "      <td>0</td>\n",
       "      <td>2</td>\n",
       "      <td>0</td>\n",
       "      <td>814.0</td>\n",
       "      <td>4</td>\n",
       "      <td>5.07</td>\n",
       "      <td>1.0</td>\n",
       "      <td>670.0</td>\n",
       "      <td>674.0</td>\n",
       "      <td>1.0</td>\n",
       "      <td>3855.0</td>\n",
       "      <td>23.1</td>\n",
       "      <td>0</td>\n",
       "      <td>Mar-1984</td>\n",
       "      <td>0.0</td>\n",
       "      <td>1.0</td>\n",
       "      <td>1.0</td>\n",
       "      <td>0.0</td>\n",
       "      <td>8.0</td>\n",
       "      <td>17.0</td>\n",
       "      <td>8.0</td>\n",
       "      <td>0</td>\n",
       "      <td>0</td>\n",
       "      <td>0.0</td>\n",
       "      <td>1</td>\n",
       "      <td>2015</td>\n",
       "      <td>6</td>\n",
       "      <td>2922</td>\n",
       "    </tr>\n",
       "    <tr>\n",
       "      <th>1</th>\n",
       "      <td>369815</td>\n",
       "      <td>1</td>\n",
       "      <td>8000.0</td>\n",
       "      <td>3</td>\n",
       "      <td>13.98</td>\n",
       "      <td>273.35</td>\n",
       "      <td>2</td>\n",
       "      <td>0</td>\n",
       "      <td>11</td>\n",
       "      <td>10</td>\n",
       "      <td>0</td>\n",
       "      <td>2</td>\n",
       "      <td>2</td>\n",
       "      <td>240.0</td>\n",
       "      <td>21</td>\n",
       "      <td>15.04</td>\n",
       "      <td>0.0</td>\n",
       "      <td>725.0</td>\n",
       "      <td>729.0</td>\n",
       "      <td>0.0</td>\n",
       "      <td>118632.0</td>\n",
       "      <td>99.9</td>\n",
       "      <td>1</td>\n",
       "      <td>Jan-1992</td>\n",
       "      <td>94.0</td>\n",
       "      <td>1.0</td>\n",
       "      <td>NaN</td>\n",
       "      <td>NaN</td>\n",
       "      <td>NaN</td>\n",
       "      <td>NaN</td>\n",
       "      <td>NaN</td>\n",
       "      <td>0</td>\n",
       "      <td>0</td>\n",
       "      <td>0.0</td>\n",
       "      <td>0</td>\n",
       "      <td>2010</td>\n",
       "      <td>10</td>\n",
       "      <td>1218</td>\n",
       "    </tr>\n",
       "    <tr>\n",
       "      <th>2</th>\n",
       "      <td>787833</td>\n",
       "      <td>2</td>\n",
       "      <td>20000.0</td>\n",
       "      <td>5</td>\n",
       "      <td>17.99</td>\n",
       "      <td>507.76</td>\n",
       "      <td>3</td>\n",
       "      <td>3</td>\n",
       "      <td>5</td>\n",
       "      <td>10</td>\n",
       "      <td>0</td>\n",
       "      <td>1</td>\n",
       "      <td>0</td>\n",
       "      <td>164.0</td>\n",
       "      <td>20</td>\n",
       "      <td>17.38</td>\n",
       "      <td>1.0</td>\n",
       "      <td>675.0</td>\n",
       "      <td>679.0</td>\n",
       "      <td>0.0</td>\n",
       "      <td>15670.0</td>\n",
       "      <td>72.5</td>\n",
       "      <td>0</td>\n",
       "      <td>Oct-1996</td>\n",
       "      <td>0.0</td>\n",
       "      <td>1.0</td>\n",
       "      <td>6.0</td>\n",
       "      <td>0.0</td>\n",
       "      <td>10.0</td>\n",
       "      <td>8.0</td>\n",
       "      <td>3.0</td>\n",
       "      <td>0</td>\n",
       "      <td>0</td>\n",
       "      <td>0.0</td>\n",
       "      <td>0</td>\n",
       "      <td>2016</td>\n",
       "      <td>8</td>\n",
       "      <td>3349</td>\n",
       "    </tr>\n",
       "    <tr>\n",
       "      <th>3</th>\n",
       "      <td>671675</td>\n",
       "      <td>3</td>\n",
       "      <td>10700.0</td>\n",
       "      <td>3</td>\n",
       "      <td>10.16</td>\n",
       "      <td>346.07</td>\n",
       "      <td>1</td>\n",
       "      <td>0</td>\n",
       "      <td>1</td>\n",
       "      <td>2</td>\n",
       "      <td>2</td>\n",
       "      <td>2</td>\n",
       "      <td>4</td>\n",
       "      <td>48.0</td>\n",
       "      <td>10</td>\n",
       "      <td>27.87</td>\n",
       "      <td>0.0</td>\n",
       "      <td>710.0</td>\n",
       "      <td>714.0</td>\n",
       "      <td>0.0</td>\n",
       "      <td>18859.0</td>\n",
       "      <td>78.6</td>\n",
       "      <td>0</td>\n",
       "      <td>Jul-2000</td>\n",
       "      <td>41646.0</td>\n",
       "      <td>1.0</td>\n",
       "      <td>3.0</td>\n",
       "      <td>0.0</td>\n",
       "      <td>4.0</td>\n",
       "      <td>11.0</td>\n",
       "      <td>6.0</td>\n",
       "      <td>0</td>\n",
       "      <td>0</td>\n",
       "      <td>0.0</td>\n",
       "      <td>0</td>\n",
       "      <td>2013</td>\n",
       "      <td>5</td>\n",
       "      <td>2161</td>\n",
       "    </tr>\n",
       "    <tr>\n",
       "      <th>4</th>\n",
       "      <td>245160</td>\n",
       "      <td>4</td>\n",
       "      <td>8000.0</td>\n",
       "      <td>3</td>\n",
       "      <td>8.24</td>\n",
       "      <td>251.58</td>\n",
       "      <td>1</td>\n",
       "      <td>1</td>\n",
       "      <td>0</td>\n",
       "      <td>5</td>\n",
       "      <td>1</td>\n",
       "      <td>0</td>\n",
       "      <td>4</td>\n",
       "      <td>122.0</td>\n",
       "      <td>9</td>\n",
       "      <td>3.47</td>\n",
       "      <td>0.0</td>\n",
       "      <td>660.0</td>\n",
       "      <td>664.0</td>\n",
       "      <td>0.0</td>\n",
       "      <td>8337.0</td>\n",
       "      <td>67.8</td>\n",
       "      <td>1</td>\n",
       "      <td>Mar-2000</td>\n",
       "      <td>4.0</td>\n",
       "      <td>1.0</td>\n",
       "      <td>3.0</td>\n",
       "      <td>0.0</td>\n",
       "      <td>8.0</td>\n",
       "      <td>6.0</td>\n",
       "      <td>4.0</td>\n",
       "      <td>0</td>\n",
       "      <td>0</td>\n",
       "      <td>0.0</td>\n",
       "      <td>0</td>\n",
       "      <td>2017</td>\n",
       "      <td>4</td>\n",
       "      <td>3592</td>\n",
       "    </tr>\n",
       "  </tbody>\n",
       "</table>\n",
       "</div>"
      ],
      "text/plain": [
       "   loan_id  user_id  total_loan  year_of_loan  interest  monthly_payment  \\\n",
       "0   119262        0     12000.0             5     11.53           264.10   \n",
       "1   369815        1      8000.0             3     13.98           273.35   \n",
       "2   787833        2     20000.0             5     17.99           507.76   \n",
       "3   671675        3     10700.0             3     10.16           346.07   \n",
       "4   245160        4      8000.0             3      8.24           251.58   \n",
       "\n",
       "   class  employer_type  industry  work_year  house_exist  censor_status  use  \\\n",
       "0      1              0        10         10            0              2    0   \n",
       "1      2              0        11         10            0              2    2   \n",
       "2      3              3         5         10            0              1    0   \n",
       "3      1              0         1          2            2              2    4   \n",
       "4      1              1         0          5            1              0    4   \n",
       "\n",
       "   post_code  region  debt_loan_ratio  del_in_18month  scoring_low  \\\n",
       "0      814.0       4             5.07             1.0        670.0   \n",
       "1      240.0      21            15.04             0.0        725.0   \n",
       "2      164.0      20            17.38             1.0        675.0   \n",
       "3       48.0      10            27.87             0.0        710.0   \n",
       "4      122.0       9             3.47             0.0        660.0   \n",
       "\n",
       "   scoring_high  pub_dero_bankrup  recircle_b  recircle_u  \\\n",
       "0         674.0               1.0      3855.0        23.1   \n",
       "1         729.0               0.0    118632.0        99.9   \n",
       "2         679.0               0.0     15670.0        72.5   \n",
       "3         714.0               0.0     18859.0        78.6   \n",
       "4         664.0               0.0      8337.0        67.8   \n",
       "\n",
       "   initial_list_status earlies_credit_mon    title  policy_code   f0   f1  \\\n",
       "0                    0           Mar-1984      0.0          1.0  1.0  0.0   \n",
       "1                    1           Jan-1992     94.0          1.0  NaN  NaN   \n",
       "2                    0           Oct-1996      0.0          1.0  6.0  0.0   \n",
       "3                    0           Jul-2000  41646.0          1.0  3.0  0.0   \n",
       "4                    1           Mar-2000      4.0          1.0  3.0  0.0   \n",
       "\n",
       "     f2    f3   f4  early_return  early_return_amount  \\\n",
       "0   8.0  17.0  8.0             0                    0   \n",
       "1   NaN   NaN  NaN             0                    0   \n",
       "2  10.0   8.0  3.0             0                    0   \n",
       "3   4.0  11.0  6.0             0                    0   \n",
       "4   8.0   6.0  4.0             0                    0   \n",
       "\n",
       "   early_return_amount_3mon  is_default  issue_date_y  issue_date_m  \\\n",
       "0                       0.0           1          2015             6   \n",
       "1                       0.0           0          2010            10   \n",
       "2                       0.0           0          2016             8   \n",
       "3                       0.0           0          2013             5   \n",
       "4                       0.0           0          2017             4   \n",
       "\n",
       "   issue_date_diff  \n",
       "0             2922  \n",
       "1             1218  \n",
       "2             3349  \n",
       "3             2161  \n",
       "4             3592  "
      ]
     },
     "execution_count": 21,
     "metadata": {},
     "output_type": "execute_result"
    }
   ],
   "source": [
    "train1_data.head()"
   ]
  },
  {
   "cell_type": "code",
   "execution_count": 19,
   "metadata": {
    "ExecuteTime": {
     "end_time": "2021-10-05T16:23:04.877417Z",
     "start_time": "2021-10-05T16:23:03.649477Z"
    }
   },
   "outputs": [
    {
     "data": {
      "text/plain": [
       "(750000, 34)"
      ]
     },
     "execution_count": 19,
     "metadata": {},
     "output_type": "execute_result"
    }
   ],
   "source": [
    "import lightgbm\n",
    "from sklearn import metrics\n",
    "\n",
    "X_train1 = train1_data.drop(['is_default','earlies_credit_mon','loan_id','user_id'], axis = 1, inplace = False)\n",
    "y_train1 = train1_data['is_default']\n",
    "\n",
    "X_train1.shape"
   ]
  },
  {
   "cell_type": "code",
   "execution_count": 20,
   "metadata": {
    "ExecuteTime": {
     "end_time": "2021-10-05T16:23:04.888210Z",
     "start_time": "2021-10-05T16:23:04.879677Z"
    }
   },
   "outputs": [
    {
     "data": {
      "text/plain": [
       "(10000, 34)"
      ]
     },
     "execution_count": 20,
     "metadata": {},
     "output_type": "execute_result"
    }
   ],
   "source": [
    "X_train2 = train2_data.drop(['isDefault','earlies_credit_mon','loan_id','user_id'], axis = 1, inplace = False)\n",
    "y_train2 = train2_data['isDefault']\n",
    "X_train2.shape"
   ]
  },
  {
   "cell_type": "code",
   "execution_count": 21,
   "metadata": {
    "ExecuteTime": {
     "end_time": "2021-10-05T16:23:05.125222Z",
     "start_time": "2021-10-05T16:23:04.890324Z"
    }
   },
   "outputs": [
    {
     "data": {
      "text/plain": [
       "(760000, 34)"
      ]
     },
     "execution_count": 21,
     "metadata": {},
     "output_type": "execute_result"
    }
   ],
   "source": [
    "X_train = pd.concat([X_train1, X_train2])\n",
    "y_train = pd.concat([y_train1, y_train2])\n",
    "X_train.shape"
   ]
  },
  {
   "cell_type": "code",
   "execution_count": 22,
   "metadata": {
    "ExecuteTime": {
     "end_time": "2021-10-05T16:23:05.135749Z",
     "start_time": "2021-10-05T16:23:05.127426Z"
    }
   },
   "outputs": [
    {
     "data": {
      "text/plain": [
       "(5000, 34)"
      ]
     },
     "execution_count": 22,
     "metadata": {},
     "output_type": "execute_result"
    }
   ],
   "source": [
    "X_test = test_data.drop(['earlies_credit_mon','loan_id','user_id'], axis = 1, inplace = False)\n",
    "X_test.shape"
   ]
  },
  {
   "cell_type": "code",
   "execution_count": 23,
   "metadata": {
    "ExecuteTime": {
     "end_time": "2021-10-05T16:23:05.146911Z",
     "start_time": "2021-10-05T16:23:05.142804Z"
    }
   },
   "outputs": [
    {
     "data": {
      "text/plain": [
       "set()"
      ]
     },
     "execution_count": 23,
     "metadata": {},
     "output_type": "execute_result"
    }
   ],
   "source": [
    "set(X_train.columns) - set(X_test)"
   ]
  },
  {
   "cell_type": "code",
   "execution_count": 21,
   "metadata": {
    "ExecuteTime": {
     "end_time": "2021-10-11T15:31:32.017292Z",
     "start_time": "2021-10-11T15:31:31.789355Z"
    }
   },
   "outputs": [
    {
     "ename": "NameError",
     "evalue": "name 'X_train' is not defined",
     "output_type": "error",
     "traceback": [
      "\u001b[0;31m---------------------------------------------------------------------------\u001b[0m",
      "\u001b[0;31mNameError\u001b[0m                                 Traceback (most recent call last)",
      "\u001b[0;32m<ipython-input-21-73020798007e>\u001b[0m in \u001b[0;36m<module>\u001b[0;34m\u001b[0m\n\u001b[0;32m----> 1\u001b[0;31m \u001b[0mX_train\u001b[0m\u001b[0;34m.\u001b[0m\u001b[0mhead\u001b[0m\u001b[0;34m(\u001b[0m\u001b[0;34m)\u001b[0m\u001b[0;34m\u001b[0m\u001b[0;34m\u001b[0m\u001b[0m\n\u001b[0m",
      "\u001b[0;31mNameError\u001b[0m: name 'X_train' is not defined"
     ]
    }
   ],
   "source": [
    "X_train.head()"
   ]
  },
  {
   "cell_type": "code",
   "execution_count": 24,
   "metadata": {
    "ExecuteTime": {
     "end_time": "2021-10-05T16:23:11.182086Z",
     "start_time": "2021-10-05T16:23:05.150831Z"
    }
   },
   "outputs": [],
   "source": [
    "# 利用Internet数据预训练模型1\n",
    "clf_ex=lightgbm.LGBMRegressor(n_estimators = 200)\n",
    "clf_ex.fit(X = X_train, y = y_train)\n",
    "clf_ex.booster_.save_model('models/LGBMmode.txt')\n",
    "pred = clf_ex.predict(X_test)"
   ]
  },
  {
   "cell_type": "code",
   "execution_count": 25,
   "metadata": {
    "ExecuteTime": {
     "end_time": "2021-10-05T16:23:11.214590Z",
     "start_time": "2021-10-05T16:23:11.185097Z"
    }
   },
   "outputs": [],
   "source": [
    "# submission\n",
    "submission = pd.DataFrame({'id':test['loan_id'], 'is_default':pred})\n",
    "submission.to_csv('submission.csv', index = None)"
   ]
  },
  {
   "cell_type": "markdown",
   "metadata": {},
   "source": [
    "#### NN"
   ]
  },
  {
   "cell_type": "raw",
   "metadata": {
    "ExecuteTime": {
     "end_time": "2021-10-11T14:52:15.397762Z",
     "start_time": "2021-10-11T14:52:15.071792Z"
    }
   },
   "source": [
    "import matplotlib.pyplot as plt\n",
    "%matplotlib inline\n",
    "\n",
    "from tensorflow.keras.models import Sequential\n",
    "from keras.layers import Dense , Dropout , Lambda, Flatten\n",
    "from tensorflow.keras.optimizers import Adam, RMSprop\n",
    "from sklearn.model_selection import train_test_split\n",
    "from keras import  backend as K\n",
    "from keras import models\n",
    "from keras.preprocessing.image import ImageDataGenerator"
   ]
  },
  {
   "cell_type": "raw",
   "metadata": {
    "ExecuteTime": {
     "end_time": "2021-10-05T16:23:11.693990Z",
     "start_time": "2021-10-05T16:22:48.858Z"
    }
   },
   "source": [
    "# 数据标准化\n",
    "import numpy as np\n",
    "mean_px = X_train.mean().astype(np.float32)\n",
    "std_px = X_train.std().astype(np.float32)\n",
    "def standardize(x): \n",
    "    return (x-mean_px)/std_px"
   ]
  },
  {
   "cell_type": "raw",
   "metadata": {
    "ExecuteTime": {
     "end_time": "2021-10-05T16:23:11.695748Z",
     "start_time": "2021-10-05T16:22:48.860Z"
    }
   },
   "source": [
    "# 缺失值填补\n",
    "X_train.fillna(0, inplace = True)\n",
    "X_test.fillna(0, inplace = True)"
   ]
  },
  {
   "cell_type": "raw",
   "metadata": {
    "ExecuteTime": {
     "end_time": "2021-10-05T16:23:11.697362Z",
     "start_time": "2021-10-05T16:22:48.862Z"
    }
   },
   "source": [
    "X_train_NN =(X_train - mean_px) / std_px\n",
    "X_test_NN  = (X_test - mean_px) / std_px\n",
    "\n",
    "X_train_NN = (X_train.values).astype('float32') # all pixel values\n",
    "y_train_NN = y_train.astype('int32')\n",
    "\n",
    "X_test_NN = (X_test.values).astype('float32') # all pixel values"
   ]
  },
  {
   "cell_type": "raw",
   "metadata": {
    "ExecuteTime": {
     "end_time": "2021-10-05T16:23:11.698673Z",
     "start_time": "2021-10-05T16:22:48.863Z"
    }
   },
   "source": [
    "# 修改初始化、加归一层、加dropout、改用不同的metrics\n",
    "seed = 43\n",
    "np.random.seed(seed)\n",
    "import pandas as pd\n",
    "from sklearn.model_selection import train_test_split\n",
    "from sklearn.preprocessing import LabelBinarizer\n",
    "from sklearn.metrics import roc_auc_score\n",
    "import tensorflow as tf\n",
    "from tensorflow.keras.regularizers import l2\n",
    "from tensorflow.keras.metrics import AUC\n",
    "\n",
    "def auroc(y_true, y_pred):\n",
    "    return tf.compat.v1.py_func(roc_auc_score, (y_true, y_pred), tf.double)\n",
    "\n",
    "input_shape = X_train_NN.shape[1]\n",
    "b_size = 1024\n",
    "max_epochs = 10\n",
    "\n",
    "import tensorflow.keras as K\n",
    "init = K.initializers.glorot_uniform(seed=1)\n",
    "simple_adam = K.optimizers.Adam(lr=0.001)\n",
    "\n",
    "model = K.models.Sequential()\n",
    "model.add(K.layers.Dense(units=256, input_dim=input_shape, kernel_initializer='he_normal', activation='relu',kernel_regularizer=l2(0.0001)))\n",
    "model.add(K.layers.LayerNormalization())\n",
    "model.add(K.layers.Dropout(0.3))\n",
    "model.add(K.layers.Dense(units= 64, kernel_initializer='he_normal', activation='relu'))\n",
    "model.add(K.layers.LayerNormalization())\n",
    "model.add(K.layers.Dropout(0.3))\n",
    "model.add(K.layers.Dense(units=1, kernel_initializer='he_normal', activation='sigmoid'))\n",
    "model.compile(loss='binary_crossentropy', optimizer=simple_adam, metrics=['accuracy',AUC(name='auc')])"
   ]
  },
  {
   "cell_type": "raw",
   "metadata": {
    "ExecuteTime": {
     "end_time": "2021-10-05T16:23:11.699935Z",
     "start_time": "2021-10-05T16:22:48.865Z"
    }
   },
   "source": [
    "model.summary()"
   ]
  },
  {
   "cell_type": "raw",
   "metadata": {
    "ExecuteTime": {
     "end_time": "2021-10-05T16:23:11.701396Z",
     "start_time": "2021-10-05T16:22:48.866Z"
    },
    "scrolled": true
   },
   "source": [
    "print(\"Starting NN training\")\n",
    "h = model.fit(X_train_NN, y_train_NN, batch_size=b_size, epochs=max_epochs, shuffle=True, verbose=1)\n",
    "print(\"NN training finished\")"
   ]
  },
  {
   "cell_type": "raw",
   "metadata": {
    "ExecuteTime": {
     "end_time": "2021-10-05T16:23:11.702777Z",
     "start_time": "2021-10-05T16:22:48.867Z"
    }
   },
   "source": [
    "pred_NN = model.predict(X_test_NN)\n",
    "pred_NN = [item[0] for item in pred_NN]"
   ]
  },
  {
   "cell_type": "raw",
   "metadata": {
    "ExecuteTime": {
     "end_time": "2021-10-05T16:23:11.704281Z",
     "start_time": "2021-10-05T16:22:48.869Z"
    }
   },
   "source": [
    "model.save('NN_model.h5')\n",
    "submission = pd.DataFrame({'id':test['loan_id'], 'is_default':pred_NN})\n",
    "submission.to_csv('submission.csv', index = None)"
   ]
  },
  {
   "cell_type": "markdown",
   "metadata": {},
   "source": [
    "# 其他尝试..."
   ]
  }
 ],
 "metadata": {
  "kernelspec": {
   "display_name": "Python 3",
   "language": "python",
   "name": "python3"
  },
  "language_info": {
   "codemirror_mode": {
    "name": "ipython",
    "version": 3
   },
   "file_extension": ".py",
   "mimetype": "text/x-python",
   "name": "python",
   "nbconvert_exporter": "python",
   "pygments_lexer": "ipython3",
   "version": "3.8.8"
  },
  "toc": {
   "base_numbering": 1,
   "nav_menu": {},
   "number_sections": false,
   "sideBar": true,
   "skip_h1_title": false,
   "title_cell": "Table of Contents",
   "title_sidebar": "Contents",
   "toc_cell": false,
   "toc_position": {},
   "toc_section_display": true,
   "toc_window_display": true
  }
 },
 "nbformat": 4,
 "nbformat_minor": 4
}
